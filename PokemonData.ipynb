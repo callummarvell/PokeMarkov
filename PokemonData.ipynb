{
 "cells": [
  {
   "cell_type": "code",
   "execution_count": 3,
   "metadata": {
    "collapsed": true,
    "pycharm": {
     "is_executing": false
    }
   },
   "outputs": [],
   "source": [
    "import pandas\n",
    "import numpy as np"
   ]
  },
  {
   "cell_type": "code",
   "execution_count": 4,
   "outputs": [
    {
     "name": "stdout",
     "text": [
      "bulbasaur\n",
      "['b', 'u', 'l', 'b', 'a', 's', 'a', 'u', 'r']\n"
     ],
     "output_type": "stream"
    }
   ],
   "source": [
    "df = pandas.read_csv(\"pokemon.csv\")\n",
    "\n",
    "names = df[\"name\"]\n",
    "names = [n.lower() for n in names] #fetches names of 801\n",
    "cnames = []\n",
    "\n",
    "for name in names:\n",
    "    cnames.append(list(name))\n",
    "print(names[0])\n",
    "print(cnames[0])"
   ],
   "metadata": {
    "collapsed": false,
    "pycharm": {
     "name": "#%%\n",
     "is_executing": false
    }
   }
  },
  {
   "cell_type": "code",
   "execution_count": 31,
   "outputs": [
    {
     "name": "stdout",
     "text": [
      "ul\n"
     ],
     "output_type": "stream"
    }
   ],
   "source": [
    "print(cnames[0][1]+cnames[0][2])"
   ],
   "metadata": {
    "collapsed": false,
    "pycharm": {
     "name": "#%%\n",
     "is_executing": false
    }
   }
  },
  {
   "cell_type": "code",
   "execution_count": 5,
   "outputs": [
    {
     "name": "stdout",
     "text": [
      "mr. mime\n",
      "mime jr.\n",
      "type: null\n",
      "tapu koko\n",
      "tapu lele\n",
      "tapu bulu\n",
      "tapu fini\n"
     ],
     "output_type": "stream"
    }
   ],
   "source": [
    "for name in names:\n",
    "    for n in name:\n",
    "        if n==\" \":\n",
    "            print(name)\n",
    "            continue"
   ],
   "metadata": {
    "collapsed": false,
    "pycharm": {
     "name": "#%%\n",
     "is_executing": false
    }
   }
  },
  {
   "cell_type": "code",
   "execution_count": 6,
   "outputs": [
    {
     "name": "stdout",
     "text": [
      "     first second freq\n",
      "0        b      u    1\n",
      "1        u      l    1\n",
      "2        l      b    1\n",
      "3        b      a    1\n",
      "4        a      s    1\n",
      "...    ...    ...  ...\n",
      "5975     e      a    1\n",
      "5976     a      r    1\n",
      "5977     r      n    1\n",
      "5978     n      a    1\n",
      "5979     a    END    1\n",
      "\n",
      "[5980 rows x 3 columns]\n"
     ],
     "output_type": "stream"
    }
   ],
   "source": [
    "letterpairs = pandas.DataFrame(columns=[\"first\", \"second\", \"freq\"])\n",
    "\n",
    "for thing in cnames:\n",
    "    for letter in range(len(thing)-1):\n",
    "        letterpairs.loc[len(letterpairs)] = [thing[letter],thing[letter+1],1]\n",
    "    letterpairs.loc[len(letterpairs)] = [thing[len(thing)-1],\"END\",1]\n",
    "\n",
    "print(letterpairs)"
   ],
   "metadata": {
    "collapsed": false,
    "pycharm": {
     "name": "#%%\n",
     "is_executing": false
    }
   }
  },
  {
   "cell_type": "code",
   "execution_count": 35,
   "outputs": [
    {
     "name": "stdout",
     "text": [
      "     pre post freq\n",
      "0     bu    l    1\n",
      "1     ul    b    1\n",
      "2     lb    a    1\n",
      "3     ba    s    1\n",
      "4     as    a    1\n",
      "...   ..  ...  ...\n",
      "5174  ge    a    1\n",
      "5175  ea    r    1\n",
      "5176  ar    n    1\n",
      "5177  rn    a    1\n",
      "5178  na  END    1\n",
      "\n",
      "[5179 rows x 3 columns]\n"
     ],
     "output_type": "stream"
    }
   ],
   "source": [
    "dletterpairs = pandas.DataFrame(columns=[\"pre\", \"post\", \"freq\"])\n",
    "\n",
    "for thing in cnames:\n",
    "    for letter in range(len(thing)-2):\n",
    "        dletterpairs.loc[len(dletterpairs)] = [thing[letter]+thing[letter+1], thing[letter+2],1]\n",
    "    dletterpairs.loc[len(dletterpairs)] = [thing[len(thing)-2]+thing[len(thing)-1],\"END\",1]\n",
    "\n",
    "print(dletterpairs)\n"
   ],
   "metadata": {
    "collapsed": false,
    "pycharm": {
     "name": "#%%\n",
     "is_executing": false
    }
   }
  },
  {
   "cell_type": "code",
   "execution_count": 7,
   "outputs": [
    {
     "name": "stdout",
     "text": [
      "     first second freq\n",
      "898             m    1\n",
      "3184            j    1\n",
      "5746            n    1\n",
      "5846            k    1\n",
      "5855            l    1\n",
      "5864            b    1\n",
      "5873            f    1\n"
     ],
     "output_type": "stream"
    }
   ],
   "source": [
    "print(letterpairs.loc[letterpairs[\"first\"]==\" \"])"
   ],
   "metadata": {
    "collapsed": false,
    "pycharm": {
     "name": "#%%\n",
     "is_executing": false
    }
   }
  },
  {
   "cell_type": "code",
   "execution_count": 8,
   "outputs": [
    {
     "name": "stdout",
     "text": [
      "    first second  freq\n",
      "0              b     1\n",
      "1              f     1\n",
      "2              j     1\n",
      "3              k     1\n",
      "4              l     1\n",
      "..    ...    ...   ...\n",
      "456     z      z     5\n",
      "457     é    END     1\n",
      "458     é      b     1\n",
      "459     ♀    END     1\n",
      "460     ♂    END     1\n",
      "\n",
      "[461 rows x 3 columns]\n"
     ],
     "output_type": "stream"
    }
   ],
   "source": [
    "freqpairs = letterpairs.groupby(by=[\"first\",\"second\"], as_index=False)[\"freq\"].sum()\n",
    "print(freqpairs)"
   ],
   "metadata": {
    "collapsed": false,
    "pycharm": {
     "name": "#%%\n",
     "is_executing": false
    }
   }
  },
  {
   "cell_type": "code",
   "execution_count": 36,
   "outputs": [
    {
     "name": "stdout",
     "text": [
      "     pre post  freq\n",
      "0      b    u     1\n",
      "1      f    i     1\n",
      "2      j    r     1\n",
      "3      k    o     1\n",
      "4      l    e     1\n",
      "...   ..  ...   ...\n",
      "2241  zy    g     1\n",
      "2242  zz  END     2\n",
      "2243  zz    l     2\n",
      "2244  zz    w     1\n",
      "2245  éb    é     1\n",
      "\n",
      "[2246 rows x 3 columns]\n"
     ],
     "output_type": "stream"
    }
   ],
   "source": [
    "dfreqpairs = dletterpairs.groupby(by=[\"pre\",\"post\"], as_index=False)[\"freq\"].sum()\n",
    "print(dfreqpairs)"
   ],
   "metadata": {
    "collapsed": false,
    "pycharm": {
     "name": "#%%\n",
     "is_executing": false
    }
   }
  },
  {
   "cell_type": "code",
   "execution_count": 9,
   "outputs": [
    {
     "name": "stdout",
     "text": [
      "    first second  freq\n",
      "10      .            1\n",
      "13      :            1\n",
      "82      e            1\n",
      "367     u            4\n"
     ],
     "output_type": "stream"
    }
   ],
   "source": [
    "print(freqpairs.loc[freqpairs[\"second\"]==\" \"])"
   ],
   "metadata": {
    "collapsed": false,
    "pycharm": {
     "name": "#%%\n",
     "is_executing": false
    }
   }
  },
  {
   "cell_type": "code",
   "execution_count": 10,
   "outputs": [
    {
     "name": "stdout",
     "text": [
      "     first second freq\n",
      "0        b      u    1\n",
      "1        u      l    1\n",
      "2        l      b    1\n",
      "3        b      a    1\n",
      "4        a      s    1\n",
      "...    ...    ...  ...\n",
      "5975     e      a    1\n",
      "5976     a      r    1\n",
      "5977     r      n    1\n",
      "5978     n      a    1\n",
      "5979     a    END    1\n",
      "\n",
      "[5980 rows x 3 columns]\n"
     ],
     "output_type": "stream"
    }
   ],
   "source": [
    "print(letterpairs)"
   ],
   "metadata": {
    "collapsed": false,
    "pycharm": {
     "name": "#%%\n",
     "is_executing": false
    }
   }
  },
  {
   "cell_type": "code",
   "execution_count": 11,
   "outputs": [],
   "source": [
    "freqpairs = freqpairs.drop_duplicates()\n",
    "pivot_df = freqpairs.pivot(index = 'first', columns= 'second', values='freq')\n",
    "sum_words = pivot_df.sum(axis=1)\n",
    "pivot_df = pivot_df.apply(lambda x: x/sum_words).fillna(0)\n",
    "\n",
    "#print(pivot_df)\n"
   ],
   "metadata": {
    "collapsed": false,
    "pycharm": {
     "name": "#%%\n",
     "is_executing": false
    }
   }
  },
  {
   "cell_type": "code",
   "execution_count": 39,
   "outputs": [
    {
     "name": "stdout",
     "text": [
      "post         '    -    .    2    :  END    a    b         c  ...         t  \\\n",
      "pre                                                          ...             \n",
      "bu    0.0  0.0  0.0  0.0  0.0  0.0  0.0  0.0  0.0  0.043478  ...  0.130435   \n",
      "\n",
      "post    u    v    w    x    y         z    é    ♀    ♂  \n",
      "pre                                                     \n",
      "bu    0.0  0.0  0.0  0.0  0.0  0.130435  0.0  0.0  0.0  \n",
      "\n",
      "[1 rows x 36 columns]\n"
     ],
     "output_type": "stream"
    }
   ],
   "source": [
    "dfreqpairs = dfreqpairs.drop_duplicates()\n",
    "dpivot_df = dfreqpairs.pivot(index = 'pre', columns= 'post', values='freq')\n",
    "dsum_words = dpivot_df.sum(axis=1)\n",
    "dpivot_df = dpivot_df.apply(lambda x: x/dsum_words).fillna(0)\n",
    "\n",
    "#print(dpivot_df.iloc[dpivot_df.index==\"bu\"])"
   ],
   "metadata": {
    "collapsed": false,
    "pycharm": {
     "name": "#%%\n",
     "is_executing": false
    }
   }
  },
  {
   "cell_type": "code",
   "execution_count": 12,
   "outputs": [
    {
     "name": "stdout",
     "text": [
      "second         '    -    .    2    :       END         a         b         c  \\\n",
      "first                                                                          \n",
      "a       0.0  0.0  0.0  0.0  0.0  0.0  0.127367  0.001721  0.034423  0.034423   \n",
      "\n",
      "second  ...         t         u         v         w         x         y  \\\n",
      "first   ...                                                               \n",
      "a       ...  0.060241  0.022375  0.018933  0.017212  0.008606  0.012048   \n",
      "\n",
      "second         z    é    ♀    ♂  \n",
      "first                            \n",
      "a       0.012048  0.0  0.0  0.0  \n",
      "\n",
      "[1 rows x 36 columns]\n"
     ],
     "output_type": "stream"
    }
   ],
   "source": [
    "print(pivot_df.iloc[pivot_df.index==\"a\"])"
   ],
   "metadata": {
    "collapsed": false,
    "pycharm": {
     "name": "#%%\n",
     "is_executing": false
    }
   }
  },
  {
   "cell_type": "code",
   "execution_count": 47,
   "outputs": [],
   "source": [
    "#Time for a fun Markov Chain\n",
    "def pokeMarkovGen(s):\n",
    "    newmon = []\n",
    "    newmon.append(s)\n",
    "    while True:\n",
    "        nextchar = np.random.choice(list(pivot_df.columns), p=(pivot_df.iloc[pivot_df.index==s].values.tolist()[0]))\n",
    "        newmon.append(nextchar)\n",
    "        s = nextchar\n",
    "        if s==\"END\":\n",
    "            break\n",
    "    #print(newmon)\n",
    "    newmon = newmon[:-1]\n",
    "    separator = \"\"\n",
    "    return separator.join(newmon)\n",
    "\n",
    "def pokeMarkovGenTwo(s):\n",
    "    newmon = []\n",
    "    newmon.append(s)\n",
    "    while True:\n",
    "        nextchar = np.random.choice(list(dpivot_df.columns), p=(dpivot_df.iloc[dpivot_df.index==s].values.tolist()[0]))\n",
    "        newmon.append(nextchar)\n",
    "        s = s[1]+nextchar\n",
    "        if nextchar==\"END\":\n",
    "            break\n",
    "    #print(newmon)\n",
    "    newmon = newmon[:-1]\n",
    "    separator = \"\"\n",
    "    return separator.join(newmon)"
   ],
   "metadata": {
    "collapsed": false,
    "pycharm": {
     "name": "#%%\n",
     "is_executing": false
    }
   }
  },
  {
   "cell_type": "code",
   "execution_count": 14,
   "outputs": [
    {
     "name": "stdout",
     "text": [
      "[' ', \"'\", '-', '.', '2', ':', 'END', 'a', 'b', 'c', 'd', 'e', 'f', 'g', 'h', 'i', 'j', 'k', 'l', 'm', 'n', 'o', 'p', 'q', 'r', 's', 't', 'u', 'v', 'w', 'x', 'y', 'z', 'é', '♀', '♂']\n",
      "[[0.0, 0.0, 0.0, 0.0, 0.0, 0.0, 0.12736660929432014, 0.0017211703958691911, 0.03442340791738382, 0.03442340791738382, 0.03270223752151463, 0.0034423407917383822, 0.008605851979345954, 0.04130808950086059, 0.0, 0.024096385542168676, 0.0, 0.024096385542168676, 0.06540447504302926, 0.04475043029259897, 0.14285714285714285, 0.0017211703958691911, 0.029259896729776247, 0.0034423407917383822, 0.1703958691910499, 0.058519793459552494, 0.060240963855421686, 0.022375215146299483, 0.0189328743545611, 0.01721170395869191, 0.008605851979345954, 0.012048192771084338, 0.012048192771084338, 0.0, 0.0, 0.0]]\n",
      "['b', 'w', 'n', 'c', 'n', 'n', 'm', 'n', 'l', 'n', 'n', 'm', 'w', 'l', 'l', 'r', 'b', 'END']\n"
     ],
     "output_type": "stream"
    }
   ],
   "source": [
    "print(list(pivot_df.columns))\n",
    "print(pivot_df.iloc[pivot_df.index==\"a\"].values.tolist())\n",
    "pokeMarkovGen(\"b\")"
   ],
   "metadata": {
    "collapsed": false,
    "pycharm": {
     "name": "#%%\n",
     "is_executing": false
    }
   }
  },
  {
   "cell_type": "code",
   "execution_count": 53,
   "outputs": [
    {
     "name": "stdout",
     "text": [
      "beopiloe\n",
      "cicy\n",
      "doatysharmanuiarar\n",
      "eeakr\n",
      "feligdarrare\n"
     ],
     "output_type": "stream"
    }
   ],
   "source": [
    "print(pokeMarkovGen(\"b\"))\n",
    "print(pokeMarkovGen(\"c\"))\n",
    "print(pokeMarkovGen(\"d\"))\n",
    "print(pokeMarkovGen(\"e\"))\n",
    "print(pokeMarkovGen(\"f\"))"
   ],
   "metadata": {
    "collapsed": false,
    "pycharm": {
     "name": "#%%\n",
     "is_executing": false
    }
   }
  },
  {
   "cell_type": "code",
   "execution_count": 66,
   "outputs": [
    {
     "name": "stdout",
     "text": [
      "butt\n",
      "poltraninja\n",
      "linapuff\n",
      "zape\n",
      "gorua\n"
     ],
     "output_type": "stream"
    }
   ],
   "source": [
    "print(pokeMarkovGenTwo(\"bu\"))\n",
    "print(pokeMarkovGenTwo(\"po\"))\n",
    "print(pokeMarkovGenTwo(\"li\"))\n",
    "print(pokeMarkovGenTwo(\"za\"))\n",
    "print(pokeMarkovGenTwo(\"go\"))"
   ],
   "metadata": {
    "collapsed": false,
    "pycharm": {
     "name": "#%%\n",
     "is_executing": false
    }
   }
  },
  {
   "cell_type": "code",
   "execution_count": 15,
   "outputs": [],
   "source": [
    "#Time for a less fun, but more weird alternate approach\n",
    "\n"
   ],
   "metadata": {
    "collapsed": false,
    "pycharm": {
     "name": "#%%\n",
     "is_executing": false
    }
   }
  }
 ],
 "metadata": {
  "kernelspec": {
   "display_name": "Python 3",
   "language": "python",
   "name": "python3"
  },
  "language_info": {
   "codemirror_mode": {
    "name": "ipython",
    "version": 2
   },
   "file_extension": ".py",
   "mimetype": "text/x-python",
   "name": "python",
   "nbconvert_exporter": "python",
   "pygments_lexer": "ipython2",
   "version": "2.7.6"
  },
  "pycharm": {
   "stem_cell": {
    "cell_type": "raw",
    "source": [],
    "metadata": {
     "collapsed": false
    }
   }
  }
 },
 "nbformat": 4,
 "nbformat_minor": 0
}