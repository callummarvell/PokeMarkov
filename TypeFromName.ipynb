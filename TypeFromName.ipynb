{
 "cells": [
  {
   "cell_type": "code",
   "execution_count": 67,
   "metadata": {
    "collapsed": true,
    "pycharm": {
     "is_executing": false
    }
   },
   "outputs": [],
   "source": [
    "import pandas\n",
    "import random\n",
    "import numpy as np\n",
    "import chars2vec\n",
    "from sklearn.svm import SVC\n",
    "from sklearn.model_selection import train_test_split\n",
    "from sklearn.model_selection import cross_val_score"
   ]
  },
  {
   "cell_type": "code",
   "execution_count": 64,
   "outputs": [],
   "source": [
    "df = pandas.read_csv(\"pokemon.csv\")\n",
    "\n",
    "names = list(df[\"name\"])\n",
    "names = [n.lower() for n in names]\n",
    "types = list(df[\"type1\"])\n",
    "for i in range(5):\n",
    "    shufnames = []\n",
    "    for n in names:\n",
    "        temp = list(n)\n",
    "        random.shuffle(temp)\n",
    "        result = ''.join(temp)\n",
    "        shufnames.append(result)\n",
    "    names.extend(shufnames)\n",
    "    types.extend(types)"
   ],
   "metadata": {
    "collapsed": false,
    "pycharm": {
     "name": "#%%\n",
     "is_executing": false
    }
   }
  },
  {
   "cell_type": "code",
   "execution_count": 65,
   "outputs": [],
   "source": [
    "c2v_model = chars2vec.load_model('eng_50')\n",
    "word_embeddings = c2v_model.vectorize_words(names)"
   ],
   "metadata": {
    "collapsed": false,
    "pycharm": {
     "name": "#%%\n",
     "is_executing": false
    }
   }
  },
  {
   "cell_type": "code",
   "execution_count": 66,
   "outputs": [
    {
     "name": "stdout",
     "text": [
      "['normal', 'water', 'fairy', 'fighting', 'ground', 'water', 'ghost', 'grass', 'water', 'grass', 'normal', 'normal', 'water', 'normal', 'water', 'fire', 'bug', 'ice', 'bug', 'water', 'normal', 'electric', 'ghost', 'ghost', 'normal', 'electric', 'bug', 'electric', 'grass', 'water', 'ground', 'electric', 'water', 'ghost', 'water', 'rock', 'water', 'water', 'normal', 'grass', 'water', 'rock', 'poison', 'psychic', 'poison', 'grass', 'water', 'bug', 'water', 'normal', 'water', 'grass', 'water', 'normal', 'grass', 'bug', 'water', 'grass', 'normal', 'dragon', 'steel', 'ground', 'grass', 'steel', 'bug', 'fairy', 'rock', 'water', 'grass', 'grass', 'psychic', 'water', 'psychic', 'grass', 'psychic', 'rock', 'psychic', 'fighting', 'bug', 'poison', 'bug', 'normal', 'grass', 'steel', 'normal', 'dragon', 'water', 'grass', 'steel', 'psychic', 'psychic', 'bug', 'fairy', 'psychic', 'fire', 'bug', 'water', 'fairy', 'fighting', 'water', 'normal', 'water', 'grass', 'ground', 'normal', 'water', 'ghost', 'ghost', 'grass', 'poison', 'water', 'dark', 'psychic', 'bug', 'dragon', 'normal', 'grass', 'normal', 'fire', 'dragon', 'electric', 'psychic', 'ghost', 'electric', 'ground', 'bug', 'fire', 'dark', 'normal', 'water', 'dark', 'dragon', 'psychic', 'normal', 'grass', 'steel', 'normal', 'bug', 'dark', 'ground', 'ice', 'fairy', 'fire', 'normal', 'normal', 'bug', 'bug', 'normal', 'fighting', 'normal', 'water', 'grass', 'water', 'normal', 'water', 'water', 'ghost', 'steel', 'water', 'water', 'normal', 'dragon', 'normal', 'bug', 'bug', 'poison', 'water', 'rock', 'ground', 'fairy', 'bug', 'normal', 'water', 'bug', 'rock', 'fire', 'water', 'ghost', 'normal', 'water', 'grass', 'normal', 'fire', 'normal', 'bug', 'normal', 'psychic', 'ground', 'rock', 'fire', 'electric', 'dark', 'water', 'water', 'fire', 'fire', 'water', 'dark', 'grass', 'grass', 'bug', 'water', 'bug', 'normal', 'water', 'fire', 'rock', 'ground', 'steel', 'dragon', 'fighting', 'bug', 'water', 'ground', 'steel', 'water', 'grass', 'grass', 'normal', 'rock', 'electric', 'water', 'water', 'grass', 'grass', 'fighting', 'water', 'psychic', 'water', 'poison', 'steel', 'normal', 'water', 'electric', 'poison', 'fire', 'normal', 'normal', 'bug', 'water', 'normal', 'ground', 'rock', 'rock', 'water', 'grass', 'bug', 'bug', 'fire', 'normal', 'ghost', 'water', 'normal', 'poison', 'normal', 'psychic', 'poison', 'water', 'normal', 'dragon', 'flying', 'poison', 'normal', 'water', 'fire', 'water', 'grass', 'normal', 'grass', 'normal', 'dragon', 'grass', 'grass', 'ghost', 'grass', 'electric', 'dark', 'electric', 'bug', 'ground', 'normal', 'water', 'bug', 'normal', 'bug', 'grass', 'bug', 'water', 'dark', 'dragon', 'water', 'water', 'psychic', 'water', 'water', 'poison', 'water', 'normal', 'water', 'water', 'dark', 'fire', 'fairy', 'water', 'water', 'grass', 'water', 'fighting', 'grass', 'normal', 'ground', 'fire', 'water', 'water', 'ghost', 'electric', 'normal', 'water', 'dragon', 'water', 'water', 'water', 'water', 'water', 'water', 'grass', 'water', 'bug', 'normal', 'dark', 'water', 'psychic', 'fire', 'normal', 'water', 'fire', 'normal', 'normal', 'electric', 'fighting', 'water', 'normal', 'normal', 'bug', 'electric', 'fire', 'fire', 'fire', 'psychic', 'normal', 'electric', 'water', 'bug', 'grass', 'normal', 'rock', 'normal', 'bug', 'rock', 'dark', 'psychic', 'water', 'water', 'fairy', 'grass', 'normal', 'steel', 'normal', 'psychic', 'poison', 'poison', 'bug', 'water', 'fighting', 'bug', 'grass', 'fighting', 'grass', 'water', 'grass', 'water', 'normal', 'poison', 'water', 'water', 'water', 'water', 'rock', 'rock', 'bug', 'water', 'grass', 'water', 'grass', 'normal', 'water', 'fighting', 'water', 'fire', 'bug', 'electric', 'psychic', 'normal', 'water', 'normal', 'normal', 'dark', 'fighting', 'water', 'electric', 'water', 'psychic', 'fairy', 'rock', 'water', 'normal', 'grass', 'grass', 'ice', 'water', 'normal', 'fighting', 'steel', 'normal', 'water', 'water', 'poison', 'ice', 'fighting', 'bug', 'bug', 'water', 'water', 'electric', 'ice', 'grass', 'normal', 'water', 'rock', 'bug', 'bug', 'bug', 'psychic', 'fire', 'water', 'water', 'grass', 'grass', 'water', 'normal', 'fighting', 'water', 'grass', 'water', 'normal', 'bug', 'normal', 'ice', 'steel', 'electric', 'normal', 'dragon', 'normal', 'electric', 'dark', 'ice', 'normal', 'psychic', 'water', 'ground', 'ice', 'bug', 'normal', 'water', 'water', 'normal', 'dragon', 'water', 'electric', 'water', 'water', 'bug', 'water', 'rock', 'fire', 'psychic', 'normal', 'water', 'steel', 'water', 'ghost', 'steel', 'normal', 'bug', 'grass', 'dark', 'electric', 'ghost', 'normal', 'normal', 'grass', 'water', 'fire', 'water', 'grass', 'fairy', 'normal', 'water', 'water', 'electric', 'grass', 'ground', 'bug', 'fighting', 'bug', 'steel', 'poison', 'grass', 'grass', 'water', 'normal', 'water', 'electric', 'water', 'normal', 'fairy', 'steel', 'grass', 'water', 'water', 'poison', 'water', 'normal', 'grass', 'fighting', 'psychic', 'bug', 'normal', 'water', 'psychic', 'water', 'water', 'normal', 'bug', 'poison', 'ice', 'normal', 'grass', 'fairy', 'fighting', 'normal', 'electric', 'fire', 'normal', 'ice', 'normal', 'normal', 'fire', 'steel', 'water', 'normal', 'normal', 'water', 'water', 'bug', 'steel', 'water', 'normal', 'poison', 'poison', 'normal', 'fairy', 'water', 'grass', 'water', 'water', 'normal', 'normal', 'water', 'water', 'bug', 'grass', 'water', 'steel', 'grass', 'water', 'bug', 'water', 'grass', 'normal', 'bug', 'normal', 'water', 'normal', 'grass', 'normal', 'psychic', 'normal', 'electric', 'dark', 'dark', 'ice', 'water', 'normal', 'rock', 'normal', 'grass', 'grass', 'electric', 'water', 'steel', 'normal', 'psychic', 'water', 'water', 'electric', 'normal', 'normal', 'water', 'normal', 'bug', 'fighting', 'water', 'fire', 'poison', 'normal', 'water', 'fire', 'rock', 'bug', 'water', 'normal', 'bug', 'fire', 'psychic', 'bug', 'dark', 'water', 'bug', 'ground', 'steel', 'steel', 'normal', 'normal', 'psychic', 'bug', 'grass', 'psychic', 'normal', 'grass', 'water', 'water', 'steel', 'rock', 'dark', 'fire', 'bug', 'bug', 'grass', 'fighting', 'grass', 'dark', 'poison', 'electric', 'water', 'fairy', 'rock', 'water', 'grass', 'water', 'normal', 'normal', 'water', 'poison', 'fire', 'normal', 'bug', 'fire', 'rock', 'normal', 'bug', 'water', 'rock', 'normal', 'bug', 'ice', 'grass', 'water', 'grass', 'water', 'fighting', 'normal', 'electric', 'ice', 'rock', 'grass', 'fire', 'rock', 'grass', 'normal', 'fighting', 'dragon', 'normal', 'fighting', 'normal', 'normal', 'normal', 'electric', 'bug', 'rock', 'grass', 'normal', 'dark', 'psychic', 'steel', 'poison', 'normal', 'fighting', 'bug', 'dark', 'grass', 'dragon', 'electric', 'water', 'water', 'fighting', 'psychic', 'fire', 'fairy', 'steel', 'poison', 'ghost', 'bug', 'ghost', 'normal', 'poison', 'bug', 'normal', 'bug', 'bug', 'bug', 'water', 'water', 'normal', 'psychic', 'ground', 'grass', 'water', 'water', 'fire', 'fire', 'water', 'dark', 'normal', 'water', 'ice', 'fire', 'fairy', 'water', 'psychic', 'water', 'grass', 'normal', 'water', 'normal', 'normal', 'normal', 'water', 'normal', 'water', 'fire', 'water', 'normal', 'poison', 'dark', 'ice', 'water', 'dragon', 'steel', 'poison', 'fire', 'water', 'dragon', 'water', 'bug', 'normal', 'grass', 'water', 'normal', 'psychic', 'grass', 'normal', 'rock', 'ground', 'grass', 'water', 'electric', 'fire', 'normal', 'psychic', 'water', 'water', 'normal', 'electric', 'ghost', 'water', 'normal', 'dragon', 'fighting', 'water', 'grass', 'rock', 'psychic', 'normal', 'ground', 'normal', 'grass', 'grass', 'normal', 'normal', 'rock', 'electric', 'bug', 'normal', 'electric', 'bug', 'normal', 'normal', 'water', 'electric', 'ghost', 'electric', 'fire', 'fairy', 'psychic', 'fighting', 'water', 'water', 'dragon', 'psychic', 'normal', 'normal', 'bug', 'dragon', 'psychic', 'bug', 'bug', 'grass', 'grass', 'grass', 'water', 'normal', 'normal', 'poison', 'poison', 'grass', 'water', 'bug', 'bug', 'water', 'poison', 'bug', 'fire', 'fire', 'psychic', 'grass', 'water', 'normal', 'water', 'water', 'water', 'grass', 'dark', 'water', 'steel', 'electric', 'water', 'ghost', 'fighting', 'normal', 'water', 'fire', 'rock', 'grass', 'psychic', 'fighting', 'grass', 'water', 'ground', 'rock', 'ground', 'bug', 'ghost', 'electric', 'dark', 'water', 'fighting', 'ground', 'psychic', 'steel', 'psychic', 'grass', 'dark', 'water', 'water', 'ghost', 'bug', 'fire', 'bug', 'water', 'normal', 'normal', 'water', 'electric', 'normal', 'fire', 'grass', 'normal', 'fighting', 'grass', 'normal', 'dark', 'normal', 'psychic', 'normal', 'bug', 'bug', 'fire', 'dragon', 'water', 'water', 'water', 'ghost', 'water', 'normal', 'normal', 'rock', 'normal', 'grass', 'water', 'bug', 'water', 'dragon', 'water', 'normal', 'normal', 'grass', 'ground', 'water', 'normal', 'steel', 'dragon', 'psychic', 'normal', 'fighting', 'water', 'normal', 'bug', 'fire', 'grass', 'grass', 'normal', 'normal', 'water', 'rock', 'normal', 'water', 'fairy', 'bug', 'normal', 'dark', 'rock', 'water', 'normal', 'dark', 'grass', 'water', 'water', 'normal', 'water', 'water', 'steel', 'electric', 'bug', 'grass', 'steel', 'steel', 'grass', 'normal', 'normal', 'fire', 'grass', 'ice', 'normal', 'rock', 'dark', 'water', 'grass', 'steel', 'bug', 'water', 'normal', 'fire', 'water', 'fighting', 'bug', 'psychic', 'rock', 'fairy', 'dark', 'psychic', 'water', 'steel', 'grass', 'water', 'grass', 'steel', 'water', 'fighting', 'bug', 'poison', 'normal', 'poison', 'fire', 'water', 'water', 'grass', 'ghost', 'normal', 'water', 'ghost', 'grass', 'rock', 'poison', 'grass', 'electric', 'fighting', 'water', 'grass', 'normal', 'fire', 'rock', 'electric', 'psychic', 'normal', 'grass', 'bug', 'dragon', 'normal', 'water', 'bug', 'water', 'dark', 'bug', 'grass', 'psychic', 'normal', 'dark', 'bug', 'grass', 'bug', 'water', 'water', 'water', 'normal', 'steel', 'electric', 'water', 'water', 'fire', 'ghost', 'rock', 'water', 'normal', 'bug', 'poison', 'ground', 'psychic', 'grass', 'poison', 'bug', 'water', 'grass', 'water', 'water', 'normal', 'fire', 'grass', 'normal', 'grass', 'steel', 'grass', 'water', 'normal', 'fire', 'fire', 'fire', 'ice', 'bug', 'water', 'normal', 'steel', 'psychic', 'normal', 'fighting', 'rock', 'bug', 'ghost', 'water', 'normal', 'steel', 'psychic', 'grass', 'fire', 'water', 'water', 'grass', 'fighting', 'dragon', 'fighting', 'psychic', 'water', 'psychic', 'grass', 'normal', 'normal', 'fire', 'water', 'fire', 'water', 'ground', 'rock', 'fire', 'grass', 'bug', 'psychic', 'water', 'grass', 'grass', 'fire', 'rock', 'fairy', 'normal', 'fairy', 'rock', 'dark', 'grass', 'rock', 'water', 'normal', 'bug', 'normal', 'ghost', 'bug', 'grass', 'normal', 'steel', 'fire', 'normal', 'normal', 'rock', 'rock', 'ice', 'normal', 'normal', 'water', 'bug', 'electric', 'normal', 'water', 'normal', 'bug', 'water', 'electric', 'normal', 'bug', 'water', 'normal', 'dark', 'ice', 'bug', 'normal', 'rock', 'water', 'grass', 'water', 'fire', 'bug', 'normal', 'normal', 'poison', 'rock', 'normal', 'bug', 'water', 'grass', 'poison', 'normal', 'rock', 'grass', 'bug', 'fire', 'fairy', 'fairy', 'ghost', 'psychic', 'poison', 'dragon', 'normal', 'ground', 'bug', 'ice', 'rock', 'water', 'normal', 'bug', 'fire', 'normal', 'ghost', 'fire', 'bug', 'water', 'grass', 'dragon', 'normal', 'electric', 'dragon', 'water', 'bug', 'normal', 'psychic', 'bug', 'fire', 'water', 'bug', 'rock', 'grass', 'fighting', 'normal', 'dragon', 'ground', 'ice', 'bug', 'fire', 'bug', 'psychic', 'water', 'bug', 'fire', 'normal', 'electric', 'poison', 'psychic', 'electric', 'water', 'water', 'poison', 'water', 'water', 'grass', 'steel', 'fire', 'electric', 'dark', 'water', 'fire', 'normal', 'psychic', 'psychic', 'ground', 'water', 'steel', 'bug', 'normal', 'psychic', 'bug', 'normal', 'normal', 'water', 'water', 'water', 'ghost']\n",
      "['normal', 'water', 'fairy', 'fighting', 'ground', 'normal', 'ghost', 'grass', 'water', 'fire', 'rock', 'ghost', 'water', 'ghost', 'electric', 'fire', 'bug', 'ice', 'bug', 'water', 'normal', 'electric', 'dark', 'ghost', 'ground', 'fire', 'water', 'electric', 'grass', 'water', 'ground', 'electric', 'water', 'ghost', 'normal', 'rock', 'bug', 'water', 'bug', 'grass', 'water', 'rock', 'poison', 'psychic', 'poison', 'grass', 'water', 'water', 'water', 'normal', 'steel', 'fire', 'water', 'normal', 'grass', 'normal', 'water', 'fairy', 'normal', 'dragon', 'steel', 'ground', 'grass', 'steel', 'rock', 'fairy', 'bug', 'water', 'fire', 'grass', 'psychic', 'water', 'psychic', 'grass', 'psychic', 'rock', 'psychic', 'fighting', 'ghost', 'poison', 'bug', 'bug', 'fairy', 'steel', 'normal', 'dragon', 'poison', 'grass', 'steel', 'psychic', 'psychic', 'bug', 'fairy', 'poison', 'fire', 'bug', 'bug', 'fairy', 'fighting', 'fire', 'normal', 'water', 'grass', 'ground', 'normal', 'water', 'ghost', 'ghost', 'grass', 'poison', 'bug', 'dark', 'psychic', 'bug', 'dragon', 'normal', 'ground', 'normal', 'fire', 'dragon', 'fire', 'psychic', 'ghost', 'electric', 'ground', 'bug', 'water', 'dark', 'ice', 'water', 'rock', 'grass', 'psychic', 'normal', 'water', 'steel', 'normal', 'bug', 'dark', 'rock', 'ice', 'fairy', 'fire', 'normal', 'normal', 'bug', 'bug', 'normal', 'fighting', 'normal', 'rock', 'psychic', 'normal', 'normal', 'water', 'water', 'ghost', 'steel', 'water', 'bug', 'normal', 'dragon', 'ground', 'bug', 'poison', 'poison', 'water', 'rock', 'ground', 'fairy', 'water', 'normal', 'fire', 'bug', 'rock', 'fire', 'water', 'ghost', 'normal', 'water', 'grass', 'normal', 'fire', 'normal', 'bug', 'water', 'psychic', 'ground', 'fighting', 'fire', 'electric', 'dark', 'water', 'water', 'fire', 'fire', 'water', 'dark', 'grass', 'grass', 'bug', 'water', 'bug', 'dark', 'normal', 'fire', 'rock', 'ground', 'steel', 'dragon', 'fighting', 'ghost', 'fire', 'dark', 'steel', 'water', 'bug', 'grass', 'water', 'rock', 'electric', 'water', 'water', 'grass', 'grass', 'fighting', 'water', 'psychic', 'poison', 'poison', 'steel', 'bug', 'water', 'electric', 'poison', 'fire', 'normal', 'normal', 'psychic', 'water', 'normal', 'ground', 'rock', 'rock', 'water', 'ghost', 'water', 'grass', 'fire', 'normal', 'normal', 'water', 'dragon', 'poison', 'normal', 'psychic', 'poison', 'ground', 'normal', 'dragon', 'flying', 'poison', 'psychic', 'bug', 'fire', 'rock', 'rock', 'normal', 'grass', 'normal', 'dragon', 'grass', 'grass', 'ghost', 'fire', 'bug', 'dark', 'electric', 'bug', 'ground', 'normal', 'water', 'bug', 'normal', 'bug', 'grass', 'normal', 'ice', 'dark', 'dragon', 'ground', 'water', 'psychic', 'water', 'bug', 'poison', 'water', 'normal', 'water', 'fairy', 'dark', 'fire', 'fairy', 'water', 'normal', 'grass', 'water', 'fighting', 'water', 'water', 'water', 'dark', 'water', 'psychic', 'water', 'electric', 'water', 'water', 'dragon', 'water', 'bug', 'dark', 'water', 'water', 'normal', 'grass', 'fire', 'water', 'grass', 'dark', 'water', 'psychic', 'fire', 'normal', 'electric', 'fire', 'normal', 'normal', 'electric', 'fighting', 'water', 'grass', 'ghost', 'grass', 'grass', 'fire', 'fire', 'fire', 'psychic', 'normal', 'water', 'water', 'fire', 'rock', 'dark', 'rock', 'normal', 'bug', 'rock', 'dark', 'psychic', 'water', 'psychic', 'water', 'grass', 'normal', 'steel', 'normal', 'psychic', 'ground', 'poison', 'bug', 'normal', 'fighting', 'bug', 'dark', 'fighting', 'rock', 'water', 'grass', 'water', 'normal', 'fire', 'normal', 'water', 'water', 'water', 'normal', 'rock', 'bug', 'fire', 'grass', 'ice', 'grass', 'water', 'grass', 'fighting', 'water', 'fire', 'ground', 'normal', 'psychic', 'normal', 'poison', 'psychic', 'water', 'rock', 'fighting', 'water', 'electric', 'grass', 'psychic', 'fairy', 'water', 'rock', 'ghost', 'grass', 'grass', 'ice', 'water', 'flying', 'fighting', 'steel', 'normal', 'water', 'electric', 'normal', 'psychic', 'fighting', 'bug', 'normal', 'ghost', 'water', 'fire', 'normal', 'steel', 'normal', 'fairy', 'rock', 'bug', 'bug', 'water', 'psychic', 'fire', 'psychic', 'water', 'grass', 'grass', 'water', 'bug', 'fighting', 'water', 'grass', 'psychic', 'normal', 'bug', 'normal', 'grass', 'steel', 'electric', 'bug', 'dragon', 'normal', 'electric', 'dark', 'ice', 'normal', 'psychic', 'rock', 'ground', 'ice', 'bug', 'normal', 'water', 'water', 'normal', 'dark', 'electric', 'electric', 'bug', 'poison', 'dragon', 'water', 'rock', 'fire', 'psychic', 'grass', 'grass', 'steel', 'dark', 'fire', 'psychic', 'normal', 'water', 'grass', 'dark', 'electric', 'ghost', 'bug', 'normal', 'grass', 'grass', 'fire', 'steel', 'grass', 'fairy', 'grass', 'water', 'water', 'electric', 'grass', 'ground', 'poison', 'water', 'bug', 'steel', 'poison', 'psychic', 'grass', 'bug', 'water', 'bug', 'electric', 'bug', 'bug', 'fairy', 'steel', 'grass', 'ghost', 'water', 'psychic', 'water', 'grass', 'grass', 'fighting', 'psychic', 'bug', 'normal', 'water', 'psychic', 'water', 'water', 'normal', 'ice', 'poison', 'ice', 'grass', 'bug', 'fairy', 'fighting', 'water', 'electric', 'electric', 'normal', 'ice', 'normal', 'bug', 'fire', 'steel', 'grass', 'ghost', 'normal', 'poison', 'water', 'bug', 'steel', 'bug', 'normal', 'poison', 'poison', 'ground', 'ice', 'water', 'grass', 'water', 'water', 'ground', 'normal', 'water', 'fire', 'bug', 'grass', 'water', 'steel', 'grass', 'bug', 'bug', 'water', 'grass', 'dragon', 'bug', 'normal', 'water', 'dark', 'steel', 'normal', 'psychic', 'normal', 'electric', 'dark', 'dark', 'ice', 'dragon', 'normal', 'rock', 'normal', 'grass', 'normal', 'electric', 'normal', 'steel', 'normal', 'psychic', 'water', 'poison', 'electric', 'normal', 'bug', 'dragon', 'normal', 'bug', 'fighting', 'water', 'fire', 'rock', 'fighting', 'rock', 'fire', 'electric', 'normal', 'water', 'normal', 'bug', 'fire', 'psychic', 'bug', 'dark', 'water', 'electric', 'ground', 'steel', 'steel', 'normal', 'normal', 'psychic', 'bug', 'grass', 'psychic', 'water', 'grass', 'water', 'fire', 'steel', 'grass', 'dark', 'fire', 'water', 'bug', 'water', 'rock', 'bug', 'dark', 'poison', 'electric', 'water', 'fairy', 'rock', 'normal', 'normal', 'water', 'normal', 'grass', 'water', 'poison', 'ground', 'normal', 'bug', 'fire', 'rock', 'normal', 'psychic', 'water', 'rock', 'normal', 'normal', 'ice', 'grass', 'water', 'ghost', 'water', 'fighting', 'normal', 'rock', 'ice', 'rock', 'normal', 'fire', 'rock', 'grass', 'normal', 'fighting', 'dragon', 'ghost', 'fighting', 'poison', 'water', 'normal', 'fire', 'bug', 'rock', 'grass', 'normal', 'dark', 'normal', 'steel', 'ground', 'normal', 'fighting', 'bug', 'dark', 'grass', 'dragon', 'electric', 'rock', 'water', 'fighting', 'psychic', 'fire', 'fairy', 'steel', 'poison', 'ghost', 'psychic', 'water', 'ice', 'poison', 'bug', 'dark', 'bug', 'bug', 'bug', 'water', 'rock', 'bug', 'psychic', 'ground', 'water', 'water', 'rock', 'fire', 'fire', 'water', 'dark', 'normal', 'fairy', 'ice', 'fire', 'normal', 'water', 'psychic', 'water', 'grass', 'normal', 'water', 'normal', 'normal', 'rock', 'fairy', 'normal', 'psychic', 'electric', 'bug', 'poison', 'poison', 'poison', 'ice', 'water', 'dragon', 'steel', 'electric', 'fire', 'fire', 'dragon', 'water', 'ground', 'ghost', 'grass', 'water', 'normal', 'psychic', 'fighting', 'normal', 'rock', 'ground', 'fighting', 'ground', 'fire', 'fire', 'ghost', 'psychic', 'water', 'water', 'normal', 'electric', 'ghost', 'grass', 'grass', 'dragon', 'fighting', 'water', 'grass', 'rock', 'psychic', 'normal', 'steel', 'normal', 'grass', 'grass', 'normal', 'normal', 'rock', 'electric', 'ground', 'rock', 'electric', 'bug', 'normal', 'normal', 'water', 'electric', 'ghost', 'electric', 'poison', 'fairy', 'water', 'fighting', 'electric', 'water', 'dragon', 'psychic', 'normal', 'psychic', 'grass', 'dragon', 'psychic', 'bug', 'bug', 'grass', 'grass', 'grass', 'water', 'normal', 'normal', 'poison', 'poison', 'grass', 'normal', 'bug', 'ground', 'water', 'poison', 'water', 'steel', 'fire', 'psychic', 'grass', 'water', 'normal', 'grass', 'ground', 'dark', 'bug', 'fire', 'water', 'steel', 'electric', 'water', 'ghost', 'fighting', 'psychic', 'water', 'fire', 'normal', 'electric', 'psychic', 'fighting', 'grass', 'fire', 'rock', 'rock', 'ground', 'bug', 'ghost', 'electric', 'dark', 'dark', 'water', 'ground', 'water', 'steel', 'psychic', 'grass', 'dark', 'bug', 'water', 'bug', 'bug', 'psychic', 'bug', 'water', 'normal', 'dragon', 'ground', 'electric', 'normal', 'electric', 'grass', 'fighting', 'fighting', 'fire', 'normal', 'fire', 'normal', 'psychic', 'normal', 'bug', 'bug', 'dragon', 'dragon', 'water', 'fire', 'water', 'ghost', 'water', 'ground', 'normal', 'rock', 'electric', 'grass', 'rock', 'bug', 'water', 'dragon', 'water', 'normal', 'normal', 'fairy', 'ground', 'normal', 'fighting', 'steel', 'rock', 'psychic', 'normal', 'fighting', 'water', 'water', 'bug', 'fire', 'grass', 'fairy', 'normal', 'normal', 'normal', 'rock', 'normal', 'bug', 'fairy', 'bug', 'water', 'dark', 'rock', 'psychic', 'normal', 'dark', 'grass', 'water', 'water', 'water', 'water', 'water', 'dragon', 'electric', 'ghost', 'grass', 'steel', 'dragon', 'poison', 'psychic', 'normal', 'fire', 'rock', 'ice', 'normal', 'rock', 'dark', 'psychic', 'psychic', 'steel', 'bug', 'rock', 'normal', 'fire', 'water', 'fighting', 'bug', 'water', 'rock', 'fairy', 'dark', 'psychic', 'water', 'steel', 'normal', 'water', 'ghost', 'steel', 'water', 'fighting', 'bug', 'poison', 'normal', 'ground', 'electric', 'water', 'water', 'grass', 'ghost', 'normal', 'water', 'ghost', 'grass', 'rock', 'fighting', 'grass', 'electric', 'fighting', 'grass', 'grass', 'normal', 'fire', 'rock', 'electric', 'psychic', 'normal', 'grass', 'bug', 'dragon', 'normal', 'fire', 'psychic', 'water', 'poison', 'bug', 'grass', 'psychic', 'normal', 'dark', 'bug', 'grass', 'ground', 'steel', 'water', 'bug', 'normal', 'steel', 'electric', 'bug', 'water', 'fire', 'ghost', 'rock', 'water', 'grass', 'bug', 'poison', 'ground', 'psychic', 'fire', 'poison', 'grass', 'water', 'grass', 'bug', 'water', 'normal', 'fire', 'steel', 'normal', 'grass', 'steel', 'grass', 'poison', 'electric', 'fire', 'dragon', 'bug', 'ice', 'bug', 'normal', 'psychic', 'ghost', 'psychic', 'normal', 'fighting', 'dark', 'electric', 'ghost', 'water', 'normal', 'steel', 'psychic', 'fairy', 'dragon', 'fire', 'water', 'grass', 'fighting', 'dragon', 'normal', 'psychic', 'water', 'psychic', 'grass', 'normal', 'rock', 'fire', 'flying', 'fire', 'rock', 'ground', 'rock', 'fire', 'ghost', 'steel', 'psychic', 'normal', 'normal', 'grass', 'fire', 'rock', 'fairy', 'normal', 'fairy', 'rock', 'poison', 'water', 'rock', 'bug', 'normal', 'bug', 'normal', 'ghost', 'bug', 'ghost', 'normal', 'fairy', 'fire', 'normal', 'normal', 'rock', 'rock', 'ice', 'normal', 'normal', 'psychic', 'grass', 'fighting', 'ghost', 'water', 'normal', 'bug', 'bug', 'electric', 'normal', 'bug', 'water', 'normal', 'dark', 'ice', 'normal', 'normal', 'dragon', 'water', 'grass', 'psychic', 'fire', 'bug', 'psychic', 'ground', 'poison', 'rock', 'normal', 'bug', 'bug', 'grass', 'poison', 'normal', 'rock', 'grass', 'water', 'fire', 'fairy', 'water', 'ghost', 'psychic', 'psychic', 'dragon', 'normal', 'ground', 'electric', 'ice', 'water', 'bug', 'normal', 'bug', 'fire', 'water', 'ghost', 'fire', 'steel', 'water', 'normal', 'dragon', 'ghost', 'grass', 'dragon', 'water', 'water', 'bug', 'normal', 'electric', 'fire', 'grass', 'bug', 'rock', 'rock', 'bug', 'flying', 'dragon', 'ground', 'ice', 'bug', 'fire', 'bug', 'psychic', 'water', 'rock', 'dark', 'grass', 'electric', 'poison', 'psychic', 'electric', 'water', 'dragon', 'rock', 'water', 'normal', 'grass', 'steel', 'fire', 'electric', 'dark', 'ice', 'fire', 'grass', 'psychic', 'psychic', 'ground', 'fire', 'steel', 'bug', 'normal', 'psychic', 'ground', 'normal', 'ground', 'water', 'water', 'electric', 'steel']\n"
     ],
     "output_type": "stream"
    },
    {
     "data": {
      "text/plain": "0.6957878315132605"
     },
     "metadata": {},
     "output_type": "execute_result",
     "execution_count": 66
    }
   ],
   "source": [
    "X_train, X_test, y_train, y_test = train_test_split(word_embeddings,types, test_size=0.05, random_state=42)\n",
    "#model_chars = ['!', '\"', '#', '$', '%', '&', \"'\", '(', ')', '*', '+', ',', '-', '.',\n",
    "               #'/', '0', '1', '2', '3', '4', '5', '6', '7', '8', '9', ':', ';', '<',\n",
    "               #'=', '>', '?', '@', '_', 'a', 'b', 'c', 'd', 'e', 'f', 'g', 'h', 'i',\n",
    "               #'j', 'k', 'l', 'm', 'n', 'o', 'p', 'q', 'r', 's', 't', 'u', 'v', 'w',\n",
    "               #'x', 'y', 'z','é']\n",
    "classifier = SVC()\n",
    "classifier.fit(X_train, y_train)\n",
    "print(list(classifier.predict(X_test)))\n",
    "print(y_test)\n",
    "classifier.score(X_test,y_test)"
   ],
   "metadata": {
    "collapsed": false,
    "pycharm": {
     "name": "#%%\n",
     "is_executing": false
    }
   }
  },
  {
   "cell_type": "code",
   "execution_count": 68,
   "outputs": [
    {
     "name": "stdout",
     "text": [
      "Accuracy: 0.69 (+/- 0.00)\n"
     ],
     "output_type": "stream"
    }
   ],
   "source": [
    "scores = cross_val_score(classifier, word_embeddings, types, cv=5)\n",
    "print(\"Accuracy: %0.2f (+/- %0.2f)\" % (scores.mean(), scores.std() * 2))"
   ],
   "metadata": {
    "collapsed": false,
    "pycharm": {
     "name": "#%%\n",
     "is_executing": false
    }
   }
  }
 ],
 "metadata": {
  "kernelspec": {
   "display_name": "Python 3",
   "language": "python",
   "name": "python3"
  },
  "language_info": {
   "codemirror_mode": {
    "name": "ipython",
    "version": 2
   },
   "file_extension": ".py",
   "mimetype": "text/x-python",
   "name": "python",
   "nbconvert_exporter": "python",
   "pygments_lexer": "ipython2",
   "version": "2.7.6"
  },
  "pycharm": {
   "stem_cell": {
    "cell_type": "raw",
    "source": [],
    "metadata": {
     "collapsed": false
    }
   }
  }
 },
 "nbformat": 4,
 "nbformat_minor": 0
}